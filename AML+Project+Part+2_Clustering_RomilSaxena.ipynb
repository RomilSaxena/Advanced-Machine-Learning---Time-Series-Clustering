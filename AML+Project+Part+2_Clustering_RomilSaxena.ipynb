{
 "cells": [
  {
   "cell_type": "markdown",
   "metadata": {},
   "source": [
    "## Importing necessary python libraries"
   ]
  },
  {
   "cell_type": "code",
   "execution_count": 41,
   "metadata": {},
   "outputs": [],
   "source": [
    "import numpy as np\n",
    "import pandas as pd \n",
    "import matplotlib.pyplot as plt\n",
    "import seaborn as sns"
   ]
  },
  {
   "cell_type": "markdown",
   "metadata": {},
   "source": [
    "### Reading the data"
   ]
  },
  {
   "cell_type": "code",
   "execution_count": 42,
   "metadata": {},
   "outputs": [],
   "source": [
    "data= pd.read_csv(\"emp_rating.csv\")"
   ]
  },
  {
   "cell_type": "code",
   "execution_count": 43,
   "metadata": {},
   "outputs": [
    {
     "data": {
      "text/html": [
       "<div>\n",
       "<style scoped>\n",
       "    .dataframe tbody tr th:only-of-type {\n",
       "        vertical-align: middle;\n",
       "    }\n",
       "\n",
       "    .dataframe tbody tr th {\n",
       "        vertical-align: top;\n",
       "    }\n",
       "\n",
       "    .dataframe thead th {\n",
       "        text-align: right;\n",
       "    }\n",
       "</style>\n",
       "<table border=\"1\" class=\"dataframe\">\n",
       "  <thead>\n",
       "    <tr style=\"text-align: right;\">\n",
       "      <th></th>\n",
       "      <th>Emp Id</th>\n",
       "      <th>Sports</th>\n",
       "      <th>Religious</th>\n",
       "      <th>Nature</th>\n",
       "      <th>Theatre</th>\n",
       "      <th>Shopping</th>\n",
       "      <th>Picnic</th>\n",
       "    </tr>\n",
       "  </thead>\n",
       "  <tbody>\n",
       "    <tr>\n",
       "      <th>0</th>\n",
       "      <td>Emp_1</td>\n",
       "      <td>2</td>\n",
       "      <td>77</td>\n",
       "      <td>79</td>\n",
       "      <td>69</td>\n",
       "      <td>68</td>\n",
       "      <td>95</td>\n",
       "    </tr>\n",
       "    <tr>\n",
       "      <th>1</th>\n",
       "      <td>Emp_2</td>\n",
       "      <td>2</td>\n",
       "      <td>62</td>\n",
       "      <td>76</td>\n",
       "      <td>76</td>\n",
       "      <td>69</td>\n",
       "      <td>68</td>\n",
       "    </tr>\n",
       "    <tr>\n",
       "      <th>2</th>\n",
       "      <td>Emp_3</td>\n",
       "      <td>2</td>\n",
       "      <td>50</td>\n",
       "      <td>97</td>\n",
       "      <td>87</td>\n",
       "      <td>50</td>\n",
       "      <td>75</td>\n",
       "    </tr>\n",
       "    <tr>\n",
       "      <th>3</th>\n",
       "      <td>Emp_4</td>\n",
       "      <td>2</td>\n",
       "      <td>68</td>\n",
       "      <td>77</td>\n",
       "      <td>95</td>\n",
       "      <td>76</td>\n",
       "      <td>61</td>\n",
       "    </tr>\n",
       "    <tr>\n",
       "      <th>4</th>\n",
       "      <td>Emp_5</td>\n",
       "      <td>2</td>\n",
       "      <td>98</td>\n",
       "      <td>54</td>\n",
       "      <td>59</td>\n",
       "      <td>95</td>\n",
       "      <td>86</td>\n",
       "    </tr>\n",
       "  </tbody>\n",
       "</table>\n",
       "</div>"
      ],
      "text/plain": [
       "  Emp Id  Sports  Religious  Nature  Theatre  Shopping  Picnic\n",
       "0  Emp_1       2         77      79       69        68      95\n",
       "1  Emp_2       2         62      76       76        69      68\n",
       "2  Emp_3       2         50      97       87        50      75\n",
       "3  Emp_4       2         68      77       95        76      61\n",
       "4  Emp_5       2         98      54       59        95      86"
      ]
     },
     "execution_count": 43,
     "metadata": {},
     "output_type": "execute_result"
    }
   ],
   "source": [
    "data.head()"
   ]
  },
  {
   "cell_type": "markdown",
   "metadata": {},
   "source": [
    "## We can see that we have only numerical variables and emp_id is just a unique identification number of the employee. Lets set it as index"
   ]
  },
  {
   "cell_type": "code",
   "execution_count": 44,
   "metadata": {},
   "outputs": [],
   "source": [
    "data.set_index('Emp Id',inplace = True)"
   ]
  },
  {
   "cell_type": "markdown",
   "metadata": {},
   "source": [
    "### descriptive stats of the dataset"
   ]
  },
  {
   "cell_type": "code",
   "execution_count": 45,
   "metadata": {
    "scrolled": true
   },
   "outputs": [
    {
     "data": {
      "text/html": [
       "<div>\n",
       "<style scoped>\n",
       "    .dataframe tbody tr th:only-of-type {\n",
       "        vertical-align: middle;\n",
       "    }\n",
       "\n",
       "    .dataframe tbody tr th {\n",
       "        vertical-align: top;\n",
       "    }\n",
       "\n",
       "    .dataframe thead th {\n",
       "        text-align: right;\n",
       "    }\n",
       "</style>\n",
       "<table border=\"1\" class=\"dataframe\">\n",
       "  <thead>\n",
       "    <tr style=\"text-align: right;\">\n",
       "      <th></th>\n",
       "      <th>Sports</th>\n",
       "      <th>Religious</th>\n",
       "      <th>Nature</th>\n",
       "      <th>Theatre</th>\n",
       "      <th>Shopping</th>\n",
       "      <th>Picnic</th>\n",
       "    </tr>\n",
       "  </thead>\n",
       "  <tbody>\n",
       "    <tr>\n",
       "      <th>count</th>\n",
       "      <td>249.000000</td>\n",
       "      <td>249.000000</td>\n",
       "      <td>249.000000</td>\n",
       "      <td>249.000000</td>\n",
       "      <td>249.000000</td>\n",
       "      <td>249.000000</td>\n",
       "    </tr>\n",
       "    <tr>\n",
       "      <th>mean</th>\n",
       "      <td>11.987952</td>\n",
       "      <td>109.779116</td>\n",
       "      <td>124.518072</td>\n",
       "      <td>116.377510</td>\n",
       "      <td>112.638554</td>\n",
       "      <td>120.401606</td>\n",
       "    </tr>\n",
       "    <tr>\n",
       "      <th>std</th>\n",
       "      <td>6.616501</td>\n",
       "      <td>32.454115</td>\n",
       "      <td>45.639372</td>\n",
       "      <td>32.132696</td>\n",
       "      <td>41.562888</td>\n",
       "      <td>32.633339</td>\n",
       "    </tr>\n",
       "    <tr>\n",
       "      <th>min</th>\n",
       "      <td>2.000000</td>\n",
       "      <td>50.000000</td>\n",
       "      <td>52.000000</td>\n",
       "      <td>59.000000</td>\n",
       "      <td>50.000000</td>\n",
       "      <td>61.000000</td>\n",
       "    </tr>\n",
       "    <tr>\n",
       "      <th>25%</th>\n",
       "      <td>6.000000</td>\n",
       "      <td>84.000000</td>\n",
       "      <td>89.000000</td>\n",
       "      <td>93.000000</td>\n",
       "      <td>79.000000</td>\n",
       "      <td>92.000000</td>\n",
       "    </tr>\n",
       "    <tr>\n",
       "      <th>50%</th>\n",
       "      <td>12.000000</td>\n",
       "      <td>104.000000</td>\n",
       "      <td>119.000000</td>\n",
       "      <td>113.000000</td>\n",
       "      <td>104.000000</td>\n",
       "      <td>119.000000</td>\n",
       "    </tr>\n",
       "    <tr>\n",
       "      <th>75%</th>\n",
       "      <td>18.000000</td>\n",
       "      <td>132.000000</td>\n",
       "      <td>153.000000</td>\n",
       "      <td>138.000000</td>\n",
       "      <td>138.000000</td>\n",
       "      <td>143.000000</td>\n",
       "    </tr>\n",
       "    <tr>\n",
       "      <th>max</th>\n",
       "      <td>25.000000</td>\n",
       "      <td>203.000000</td>\n",
       "      <td>318.000000</td>\n",
       "      <td>213.000000</td>\n",
       "      <td>233.000000</td>\n",
       "      <td>218.000000</td>\n",
       "    </tr>\n",
       "  </tbody>\n",
       "</table>\n",
       "</div>"
      ],
      "text/plain": [
       "           Sports   Religious      Nature     Theatre    Shopping      Picnic\n",
       "count  249.000000  249.000000  249.000000  249.000000  249.000000  249.000000\n",
       "mean    11.987952  109.779116  124.518072  116.377510  112.638554  120.401606\n",
       "std      6.616501   32.454115   45.639372   32.132696   41.562888   32.633339\n",
       "min      2.000000   50.000000   52.000000   59.000000   50.000000   61.000000\n",
       "25%      6.000000   84.000000   89.000000   93.000000   79.000000   92.000000\n",
       "50%     12.000000  104.000000  119.000000  113.000000  104.000000  119.000000\n",
       "75%     18.000000  132.000000  153.000000  138.000000  138.000000  143.000000\n",
       "max     25.000000  203.000000  318.000000  213.000000  233.000000  218.000000"
      ]
     },
     "execution_count": 45,
     "metadata": {},
     "output_type": "execute_result"
    }
   ],
   "source": [
    "data.describe()"
   ]
  },
  {
   "cell_type": "markdown",
   "metadata": {},
   "source": [
    "## Visualize the spread of the variables using a boxplot"
   ]
  },
  {
   "cell_type": "code",
   "execution_count": 46,
   "metadata": {},
   "outputs": [
    {
     "data": {
      "text/plain": [
       "Text(0.5, 0.98, 'BOXPLOTS TO CHECK THE SPREAD OF VARIABLES')"
      ]
     },
     "execution_count": 46,
     "metadata": {},
     "output_type": "execute_result"
    },
    {
     "data": {
      "image/png": "[encoded data removed]",
      "text/plain": [
       "<Figure size 864x576 with 1 Axes>"
      ]
     },
     "metadata": {
      "needs_background": "light"
     },
     "output_type": "display_data"
    }
   ],
   "source": [
    "data.boxplot(figsize = (12,8), grid = True)\n",
    "plt.suptitle('BOXPLOTS TO CHECK THE SPREAD OF VARIABLES', size = 20)"
   ]
  },
  {
   "cell_type": "markdown",
   "metadata": {},
   "source": [
    "## Question-1: Do you find any difference in the scale of the variables? Is there an exception? Write your observations from the boxplots."
   ]
  },
  {
   "cell_type": "markdown",
   "metadata": {},
   "source": [
    "\n",
    "### <font color='Blue'> Yes, we can clearly a exception in the variables, there is difference in scale of the attribute <font color='Red'>'Sports'</font> from other variables.</font>\n",
    "\n",
    "### <font color='Blue'>Boxplots is a good technique to find out the variability, exceptions and outiers in the dataset.</font>\n",
    "\n",
    "### <font color='Blue'>We can see from the boxplot and the descriptive stats of the data mentioned above that :</font>\n",
    "\n",
    "#### <font color='Blue'>1. Columns Religious , Nature, Theatre, Shopping and Picnic have starting values somewhere between (50-61) and end up between (200-320) .</font>\n",
    "#### <font color='Blue'>2. Column Sports however starts from vaue 2 and the maximum is 25.</font>\n",
    "#### <font color='Blue'>3. Average values of Religious , Nature, Theatre, Shopping and Picnic are between (100-120).</font>\n",
    "#### <font color='Blue'>4. Nature, Theater and Shopping have a very few outliers as well.</font>\n",
    "\n",
    "## <font color='Blue'>So the scale for <font color='Red'>'Sports'</font> column in this case is invariable and needs adjustment. </font>\n"
   ]
  },
  {
   "cell_type": "code",
   "execution_count": null,
   "metadata": {},
   "outputs": [],
   "source": []
  },
  {
   "cell_type": "markdown",
   "metadata": {},
   "source": [
    "## Lets check the co-relation matrix to understand the relationships"
   ]
  },
  {
   "cell_type": "code",
   "execution_count": 47,
   "metadata": {
    "scrolled": true
   },
   "outputs": [
    {
     "data": {
      "text/plain": [
       "(6.5, -0.5)"
      ]
     },
     "execution_count": 47,
     "metadata": {},
     "output_type": "execute_result"
    },
    {
     "data": {
      "image/png": "[encoded data removed]",
      "text/plain": [
       "<Figure size 360x360 with 2 Axes>"
      ]
     },
     "metadata": {
      "needs_background": "light"
     },
     "output_type": "display_data"
    }
   ],
   "source": [
    "plt.figure(figsize = (10,8) )\n",
    "ax = sns.heatmap(data.corr(),annot = True)\n",
    "bottom, top = ax.get_ylim()\n",
    "ax.set_ylim(bottom + 0.5, top - 0.5)"
   ]
  },
  {
   "cell_type": "markdown",
   "metadata": {},
   "source": [
    "## Question-2: What patterns do you observe here? What insights can you draw from the exploratory data analysis so far?"
   ]
  },
  {
   "cell_type": "markdown",
   "metadata": {},
   "source": [
    "\n",
    "### <font color='Blue'> Below are the patterns that are observed : </font>\n",
    "\n",
    "### <font color='Blue'> We can see that the correlation coefficient for Religious and Shopping is 0.9, therefore we can say that there is a very strong positive correlation between Religious and Shopping.</font>\n",
    "\n",
    "### <font color='Blue'> We can see that the second highest correlation is between Picnic and Sports which is 0.8 we can say that there is a strong positive correlation between Picnic and Sports as well.\n",
    "\n",
    "### <font color='Blue'> We can see that there is Very Weak or Negligible Negative correlation between Religious-Nature(-0.15) Rating and Nature-Shopping(-0.19) </font>\n",
    "\n",
    "### <font color='Blue'> For Sports we can say that there is a Moderate to Very High Positive correlation with almost all the columns in the dataset</font>\n",
    "\t\n",
    "### <font color='Blue'> Insights that can be drawn from above are : </font>\n",
    "\n",
    "#### <font color='Blue'> 1. Employees who have rated high for Religious Activity have also rated high for Shopping coupons therefore we can analyse that there are the employees who are of higher age and like to either shop for their homes or needs , else would like to go for religious activity in their liesure time.  </font>\n",
    "\t\n",
    "#### <font color='Blue'> 2. Employees who have rated high for Picnic have also rated high for Sports Activity therefore we can analyse that there are the employees who are of young to mid age and would like to go on a picnic and also play some sport or need sports coupons.  </font>\n",
    "\n",
    "#### <font color='Blue'> 3. Employees who want to have a religious activity or coupon do not want to travel or rate for Nature, same is with Nature and Shopping, the employees who want to travel or look into Nature have rated less for Shopping coupons. </font>\n",
    "\n",
    "#### <font color='Blue'> 4. Sports we can see has a common foreground with all the other columns here and have a mid to average relation with other activities therefore it can be inferred that Sports is a likelyhood to have with other activities or coupons.  </font>\n",
    "\t"
   ]
  },
  {
   "cell_type": "code",
   "execution_count": 48,
   "metadata": {},
   "outputs": [],
   "source": [
    "from sklearn.preprocessing import MinMaxScaler\n",
    "\n",
    "data_copy = data[:]\n",
    "scaler = MinMaxScaler()\n",
    "data_copy[data_copy.columns] = scaler.fit_transform(data_copy)"
   ]
  },
  {
   "cell_type": "code",
   "execution_count": 49,
   "metadata": {},
   "outputs": [
    {
     "data": {
      "text/plain": [
       "Text(0.5, 0.98, 'BOXPLOTS TO CHECK THE SPREAD OF VARIABLES')"
      ]
     },
     "execution_count": 49,
     "metadata": {},
     "output_type": "execute_result"
    },
    {
     "data": {
      "image/png": "[encoded data removed]",
      "text/plain": [
       "<Figure size 864x576 with 1 Axes>"
      ]
     },
     "metadata": {
      "needs_background": "light"
     },
     "output_type": "display_data"
    }
   ],
   "source": [
    "data_copy.boxplot(figsize = (12,8), grid = True)\n",
    "plt.suptitle('BOXPLOTS TO CHECK THE SPREAD OF VARIABLES', size = 20)"
   ]
  },
  {
   "cell_type": "markdown",
   "metadata": {},
   "source": [
    "## Question-3: What did we do here? Why did we do it? "
   ]
  },
  {
   "cell_type": "markdown",
   "metadata": {},
   "source": [
    "### <font color='Blue'> The process which is done here is called Feature Scaling and here we are doing Normalization using Min Max Scaling, it is a scaling technique in which values are shifted and rescaled so that they end up ranging between 0 and 1. </font>\n",
    "\n",
    "### <font color='Blue'>To answer why do we do it we first need to understand the Practical Condsiderations of Clustering(K-Means), below :</font>\n",
    "\n",
    "#### <font color='Blue'> 1.You need to bring all the attributes to same scale, this can be done be done by standardization or normalization. :</font>\n",
    "#### <font color='Blue'> 2.Clustering process is sensetive to the presence of outliers in data :</font>\n",
    "#### <font color='Blue'>3. We have seen in Answer 1 'Sports' variable needed some scaling, therefore we did this step.</font>\n",
    "\n",
    "### <font color='Blue'> Considering the above practical considerations for clustering we need to process the data in such a way that whole numerical data is in same scale and there is no outliers, therefore the above process is done in this step.</font>\n",
    "\n"
   ]
  },
  {
   "cell_type": "markdown",
   "metadata": {},
   "source": [
    "\n",
    "### `Hopkins Statistic`"
   ]
  },
  {
   "cell_type": "code",
   "execution_count": 1,
   "metadata": {},
   "outputs": [],
   "source": [
    "from sklearn.neighbors import NearestNeighbors\n",
    "from random import sample\n",
    "from numpy.random import uniform\n",
    "import numpy as np\n",
    "from math import isnan\n",
    " \n",
    "def my_hopkins(X):\n",
    "    d = X.shape[1]\n",
    "    #d = len(vars) # columns\n",
    "    n = len(X) # rows\n",
    "    m = int(0.1 * n) \n",
    "    nbrs = NearestNeighbors(n_neighbors=1).fit(X.values)\n",
    " \n",
    "    rand_X = sample(range(0, n, 1), m)\n",
    " \n",
    "    ujd = []\n",
    "    wjd = []\n",
    "    for j in range(0, m):\n",
    "        u_dist, _ = nbrs.kneighbors(uniform(np.amin(X,axis=0),np.amax(X,axis=0),d).reshape(1, -1), 2, return_distance=True)\n",
    "        ujd.append(u_dist[0][1])\n",
    "        w_dist, _ = nbrs.kneighbors(X.iloc[rand_X[j]].values.reshape(1, -1), 2, return_distance=True)\n",
    "        wjd.append(w_dist[0][1])\n",
    " \n",
    "    H = sum(ujd) / (sum(ujd) + sum(wjd))\n",
    "    if isnan(H):\n",
    "        print(ujd, wjd)\n",
    "        H = 0\n",
    " \n",
    "    return H"
   ]
  },
  {
   "cell_type": "code",
   "execution_count": 2,
   "metadata": {},
   "outputs": [
    {
     "ename": "NameError",
     "evalue": "name 'data_copy' is not defined",
     "output_type": "error",
     "traceback": [
      "\u001b[1;31m---------------------------------------------------------------------------\u001b[0m",
      "\u001b[1;31mNameError\u001b[0m                                 Traceback (most recent call last)",
      "\u001b[1;32m<ipython-input-2-fa5242079d9e>\u001b[0m in \u001b[0;36m<module>\u001b[1;34m\u001b[0m\n\u001b[1;32m----> 1\u001b[1;33m \u001b[0mmy_hopkins\u001b[0m\u001b[1;33m(\u001b[0m\u001b[0mdata_copy\u001b[0m\u001b[1;33m)\u001b[0m\u001b[1;33m\u001b[0m\u001b[1;33m\u001b[0m\u001b[0m\n\u001b[0m",
      "\u001b[1;31mNameError\u001b[0m: name 'data_copy' is not defined"
     ]
    }
   ],
   "source": [
    "my_hopkins(data_copy)"
   ]
  },
  {
   "cell_type": "markdown",
   "metadata": {},
   "source": [
    "## Question-4: According to Hopkins Statistic is there cluster tendency in the data?"
   ]
  },
  {
   "cell_type": "markdown",
   "metadata": {},
   "source": [
    "### <font color='Blue'> Hopkins Statistics is a test which is used to quantify the clustering tendency of a given dataset. Values ranges and the insights provided by the ranges are below:</font>\n",
    "\n",
    "#### <font color='Blue'> 0.19 - Clustering is useless and there is no insight that can be drawn.</font>\n",
    "#### <font color='Blue'> 0.31 - Clustering and insights are Questionable.</font>\n",
    "#### <font color='Blue'> 0.51 - Clustering is useul and there can be relevant insights drawn from the data</font>\n",
    "\n",
    "### <font color='Blue'> In the above case the Hopkins Statistics value is 0.8 therefore we can say that the data has clustering tendency, i.e clustering is useful here and there can be insights drawn from this dataset.</font>"
   ]
  },
  {
   "cell_type": "markdown",
   "metadata": {},
   "source": [
    "## Model building - KMeans"
   ]
  },
  {
   "cell_type": "code",
   "execution_count": null,
   "metadata": {},
   "outputs": [],
   "source": [
    "from sklearn.cluster import KMeans"
   ]
  },
  {
   "cell_type": "markdown",
   "metadata": {},
   "source": [
    "### Choosing K by comparing Cost against each K¶"
   ]
  },
  {
   "cell_type": "code",
   "execution_count": null,
   "metadata": {},
   "outputs": [],
   "source": [
    "import pylab as pl\n",
    "number_of_clusters = range(1,5)\n",
    "kmeans = [KMeans(n_clusters=i,max_iter=1000,random_state=42) for i in number_of_clusters]\n",
    "score = [-1*kmeans[i].fit(data_copy).score(data_copy) for i in range(len(kmeans))]\n",
    "pl.plot((number_of_clusters),score)\n",
    "pl.xlabel('Number of Clusters')\n",
    "pl.ylabel('Score')\n",
    "pl.title('Elbow Curve')\n",
    "pl.show()"
   ]
  },
  {
   "cell_type": "markdown",
   "metadata": {},
   "source": [
    "## According to the Elbow Curve the optimum No of Clusters is 2. But, your management plans 3 different types of incentives to give to the customers. Hence we will be running K-Means with number of clusters as 3\n",
    "\n",
    "## Question-5: Write the code for creating the KMeans clusters with number of clusters = 3.\n",
    "\n",
    "### Hint: Use the function KMeans(n_clusters= no. of clusters ,max_iter=1000,random_state=42)"
   ]
  },
  {
   "cell_type": "code",
   "execution_count": null,
   "metadata": {},
   "outputs": [],
   "source": [
    "km =KMeans(n_clusters=3,max_iter=1000,random_state=42)\n",
    "fitClusters = km.fit_predict(data_copy)"
   ]
  },
  {
   "cell_type": "markdown",
   "metadata": {},
   "source": [
    "### Combining the predicted clusters with the original DF.¶"
   ]
  },
  {
   "cell_type": "code",
   "execution_count": null,
   "metadata": {},
   "outputs": [],
   "source": [
    "copy_2 = data_copy.reset_index()\n",
    "clustersDf = pd.DataFrame(fitClusters)\n",
    "data['k_mean_pred'] = fitClusters\n",
    "clustersDf.columns = ['k_mean_pred']\n",
    "combinedDf = pd.concat([copy_2, clustersDf], axis = 1)\n",
    "combinedDf.set_index('Emp Id',inplace = True)\n",
    "combinedDf.head()"
   ]
  },
  {
   "cell_type": "markdown",
   "metadata": {},
   "source": [
    "## Analysing the segments based on the clusters created by K-means clustering Model"
   ]
  },
  {
   "cell_type": "code",
   "execution_count": null,
   "metadata": {},
   "outputs": [],
   "source": [
    "temp = ['K means clustering'] \n",
    "a = 0\n",
    "for x in  ['k_mean_pred']:\n",
    "    plt.figure(figsize = (15,8))\n",
    "    c = 1\n",
    "    for variables in  data.columns[:-1]:\n",
    "        plt.subplot(2,3,c)\n",
    "        sns.boxplot(x= x, y= variables , data= data)\n",
    "        c +=1\n",
    "\n",
    "        plt.subplots_adjust(wspace=0.50)\n",
    "    plt.suptitle('Different Segments of Employees - ' + temp[a])\n",
    "    a +=1"
   ]
  },
  {
   "cell_type": "markdown",
   "metadata": {},
   "source": [
    "## Now that the segments have been created, we need to profile each segment for reporting"
   ]
  },
  {
   "cell_type": "markdown",
   "metadata": {},
   "source": [
    "## Question-6: What are the major differences between Employee Segment 0 and Employee Segment 1?"
   ]
  },
  {
   "cell_type": "markdown",
   "metadata": {},
   "source": [
    "### <font color='Blue'>Changed the code \"for variables in  data.columns[:-2]:\" to \"for variables in  data.columns[:-1]:\" as the Picnic boxlot was not visible. Changed the code and wrote insights.</font>\n",
    "\n",
    "### <font color='Blue'>There are 3 Clusters which are made from the data above, below is the difference between Employee Segment 0 and Employee Segment 1 </font>\n",
    "\n",
    "#### <font color='Blue'> Employee Segment 0 highly pefers or have given higher rating to Sports, Religious Activity, Picnic and Shopping coupons.</font>\n",
    "#### <font color='Blue'> Employee Segment 1 prefers to Travel(Nature) and Theatre Activity(Movie coupons etc)</font>\n",
    "#### <font color='Blue'> Employee Segment 0 consist of mid aged to more aged individuals who prefer Shopping, Religious activity and Picnic with office friends and families and sometimes Sports</font>\n",
    "#### <font color='Blue'> Employee Segment 1 is preferably very young employees who either want to Travel with friends or go to watch Theater.</font>"
   ]
  },
  {
   "cell_type": "markdown",
   "metadata": {},
   "source": [
    "## Question-7: Which of the employee segments does not show much interest in any kind of leisure activity or entertainment ?"
   ]
  },
  {
   "cell_type": "markdown",
   "metadata": {},
   "source": [
    "### <font color='Blue'> Employee Segment 2 is the cluster which does not show much interest in any kind of leisure activity or entertainment, it can be easily inferred from the box plots of the employee cluster above.</font>\n",
    "\n",
    "### <font color='Blue'> Employee Segment 2 has rated low for all the activities therefore this segment is the most uninterested ones.</font>\n"
   ]
  },
  {
   "cell_type": "code",
   "execution_count": null,
   "metadata": {},
   "outputs": [],
   "source": []
  }
 ],
 "metadata": {
  "kernelspec": {
   "display_name": "Python 3",
   "language": "python",
   "name": "python3"
  },
  "language_info": {
   "codemirror_mode": {
    "name": "ipython",
    "version": 3
   },
   "file_extension": ".py",
   "mimetype": "text/x-python",
   "name": "python",
   "nbconvert_exporter": "python",
   "pygments_lexer": "ipython3",
   "version": "3.7.6"
  }
 },
 "nbformat": 4,
 "nbformat_minor": 4
}
